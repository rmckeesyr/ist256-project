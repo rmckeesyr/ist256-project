{
 "cells": [
  {
   "cell_type": "code",
   "execution_count": 41,
   "metadata": {
    "scrolled": true
   },
   "outputs": [
    {
     "data": {
      "text/html": [
       "<div>\n",
       "<style scoped>\n",
       "    .dataframe tbody tr th:only-of-type {\n",
       "        vertical-align: middle;\n",
       "    }\n",
       "\n",
       "    .dataframe tbody tr th {\n",
       "        vertical-align: top;\n",
       "    }\n",
       "\n",
       "    .dataframe thead th {\n",
       "        text-align: right;\n",
       "    }\n",
       "</style>\n",
       "<table border=\"1\" class=\"dataframe\">\n",
       "  <thead>\n",
       "    <tr style=\"text-align: right;\">\n",
       "      <th></th>\n",
       "      <th>County</th>\n",
       "      <th>Latitude</th>\n",
       "      <th>Longitude</th>\n",
       "    </tr>\n",
       "  </thead>\n",
       "  <tbody>\n",
       "    <tr>\n",
       "      <th>0</th>\n",
       "      <td>Albany</td>\n",
       "      <td>42.6526</td>\n",
       "      <td>-73.7562</td>\n",
       "    </tr>\n",
       "    <tr>\n",
       "      <th>1</th>\n",
       "      <td>Alegany</td>\n",
       "      <td>39.6255</td>\n",
       "      <td>-78.6115</td>\n",
       "    </tr>\n",
       "    <tr>\n",
       "      <th>2</th>\n",
       "      <td>Bronx</td>\n",
       "      <td>40.8448</td>\n",
       "      <td>-73.8648</td>\n",
       "    </tr>\n",
       "    <tr>\n",
       "      <th>3</th>\n",
       "      <td>Broome</td>\n",
       "      <td>42.1792</td>\n",
       "      <td>-75.8534</td>\n",
       "    </tr>\n",
       "    <tr>\n",
       "      <th>4</th>\n",
       "      <td>Cattaraugus</td>\n",
       "      <td>42.2318</td>\n",
       "      <td>-78.7476</td>\n",
       "    </tr>\n",
       "    <tr>\n",
       "      <th>...</th>\n",
       "      <td>...</td>\n",
       "      <td>...</td>\n",
       "      <td>...</td>\n",
       "    </tr>\n",
       "    <tr>\n",
       "      <th>57</th>\n",
       "      <td>Washington</td>\n",
       "      <td>43.2519</td>\n",
       "      <td>-73.3709</td>\n",
       "    </tr>\n",
       "    <tr>\n",
       "      <th>58</th>\n",
       "      <td>Wayne</td>\n",
       "      <td>43.2020</td>\n",
       "      <td>-77.0104</td>\n",
       "    </tr>\n",
       "    <tr>\n",
       "      <th>59</th>\n",
       "      <td>Westchester</td>\n",
       "      <td>41.1220</td>\n",
       "      <td>-73.7949</td>\n",
       "    </tr>\n",
       "    <tr>\n",
       "      <th>60</th>\n",
       "      <td>Wyoming</td>\n",
       "      <td>42.6421</td>\n",
       "      <td>-78.2020</td>\n",
       "    </tr>\n",
       "    <tr>\n",
       "      <th>61</th>\n",
       "      <td>Yates</td>\n",
       "      <td>42.6431</td>\n",
       "      <td>-77.1485</td>\n",
       "    </tr>\n",
       "  </tbody>\n",
       "</table>\n",
       "<p>62 rows × 3 columns</p>\n",
       "</div>"
      ],
      "text/plain": [
       "         County  Latitude  Longitude\n",
       "0        Albany   42.6526   -73.7562\n",
       "1       Alegany   39.6255   -78.6115\n",
       "2         Bronx   40.8448   -73.8648\n",
       "3        Broome   42.1792   -75.8534\n",
       "4   Cattaraugus   42.2318   -78.7476\n",
       "..          ...       ...        ...\n",
       "57   Washington   43.2519   -73.3709\n",
       "58        Wayne   43.2020   -77.0104\n",
       "59  Westchester   41.1220   -73.7949\n",
       "60      Wyoming   42.6421   -78.2020\n",
       "61        Yates   42.6431   -77.1485\n",
       "\n",
       "[62 rows x 3 columns]"
      ]
     },
     "execution_count": 41,
     "metadata": {},
     "output_type": "execute_result"
    }
   ],
   "source": [
    "import pandas as pd\n",
    "\n",
    "ny_county = {'County': ['Albany', 'Alegany', 'Bronx', 'Broome', 'Cattaraugus', 'Cayuga', 'Chautauqua', 'Chemung', 'Chenango', 'Clinton', 'Columbia', 'Cortland', 'Delaware', 'Dutchess', 'Erie', 'Essex', 'Franklin', 'Fulton', 'Genesse', 'Greene', 'Hamilton', 'Herkimer', 'Jefferson', 'Kings', 'Lewis', 'Livingston', 'Madison', 'Monroe', 'Montgomery', 'Nassau', 'New York', 'Niagara', 'Oneida', 'Onondaga', 'Ontario', 'Orange', 'Orleans', 'Oswego', 'Otsego', 'Putnam', 'Queens', 'Rensselaer', 'Richmond', 'Rockland', 'St. Lawrence', 'Saratoga', 'Schenectady', 'Schoharie', 'Schuyler', 'Seneca', 'Steuben', 'Suffolk', 'Sullivan', 'Tioga', 'Tompkins', 'Ulster', 'Warren', 'Washington', 'Wayne', 'Westchester', 'Wyoming', 'Yates'],\n",
    "        'Latitude': [42.6526, 39.6255, 40.8448, 42.1792, 42.2318, 42.7655, 42.2313, 42.1362, 42.4972, 44.7904, 42.3679, 42.5441, 39.9078, 41.7784, 42.9024, 40.7947, 40.0155, 33.8034, 42.9838, 42.2957, 43.4764, 43.1631, 44.0607, 40.6782, 43.8401, 42.1424, 42.9806, 43.2841, 42.9155, 40.6546, 40.7128, 43.3119, 43.2372, 43.0268, 42.8510, 41.3912, 43.4089, 43.4825, 42.5780, 41.4351, 40.7282, 42.6737, 40.5795, 41.1489, 44.4473, 43.0324, 42.8493, 42.6550, 42.3796, 42.7652, 42.3210, 40.9849, 41.6897, 42.1256, 42.4576, 41.8586, 43.6079, 43.2519, 43.2020, 41.1220, 42.6421, 42.6431],\n",
    "        'Longitude': [-73.7562, -78.6115, -73.8648, -75.8534, -78.7476, -76.5488, -79.5603, -76.7798, -75.6208, -73.6006, -73.5594, -75.9928, -75.3879, -73.7478, -78.8662, -74.2649, -82.9932, -84.3963, -78.1564, -74.1240, -74.4057, -74.8741, -75.9928, -73.9442, -75.4345, -73.7779, -75.8069, -77.7452, -74.4526, -73.5594, -74.0060, -78.7476, -75.4345, -76.1784, -77.2865, -74.3118, -78.2020, -76.1784, -75.0611, -73.7949, -73.7949, -73.5594, -74.1502, -73.9830, -74.9302, -73.9360, -73.9830, -74.4995, -76.8721, -76.8721, -77.3784, -72.6151, -74.7805, -76.3637, -76.5488, -74.3118, -73.7478, -73.3709, -77.0104, -73.7949, -78.2020, -77.1485],  \n",
    "}\n",
    "df = pd.DataFrame(ny_county, columns = ['County', 'Latitude', 'Longitude'])\n",
    "df\n"
   ]
  },
  {
   "cell_type": "code",
   "execution_count": 18,
   "metadata": {},
   "outputs": [
    {
     "data": {
      "text/plain": [
       "9"
      ]
     },
     "execution_count": 18,
     "metadata": {},
     "output_type": "execute_result"
    }
   ],
   "source": []
  },
  {
   "cell_type": "code",
   "execution_count": null,
   "metadata": {},
   "outputs": [],
   "source": []
  }
 ],
 "metadata": {
  "kernelspec": {
   "display_name": "Python 3",
   "language": "python",
   "name": "python3"
  },
  "language_info": {
   "codemirror_mode": {
    "name": "ipython",
    "version": 3
   },
   "file_extension": ".py",
   "mimetype": "text/x-python",
   "name": "python",
   "nbconvert_exporter": "python",
   "pygments_lexer": "ipython3",
   "version": "3.7.6"
  }
 },
 "nbformat": 4,
 "nbformat_minor": 2
}
