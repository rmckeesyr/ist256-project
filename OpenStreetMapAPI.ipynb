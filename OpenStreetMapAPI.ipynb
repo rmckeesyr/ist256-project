{
 "cells": [
  {
   "cell_type": "code",
   "execution_count": 3,
   "metadata": {},
   "outputs": [],
   "source": [
    "import requests\n",
    "import json\n",
    "\n",
    "overpass_url = \"http://overpass-api.de/api/interpreter\"\n",
    "overpass_query = \"\"\"\n",
    "[out:json];\n",
    "area[\"ISOISO3166-2\"=\"NY\"][admin_level=2];\n",
    "(node(area));\n",
    " way(area);\n",
    " rel(area);\n",
    ");\n",
    "\n",
    "out center;\n",
    "\"\"\"\n",
    "\n",
    "response = requests.get(overpass_url,\n",
    "                       params={'data':overpass_query})\n",
    "data = response.json\n",
    "\n"
   ]
  }
 ],
 "metadata": {
  "kernelspec": {
   "display_name": "Python 3",
   "language": "python",
   "name": "python3"
  },
  "language_info": {
   "codemirror_mode": {
    "name": "ipython",
    "version": 3
   },
   "file_extension": ".py",
   "mimetype": "text/x-python",
   "name": "python",
   "nbconvert_exporter": "python",
   "pygments_lexer": "ipython3",
   "version": "3.7.6"
  }
 },
 "nbformat": 4,
 "nbformat_minor": 2
}
